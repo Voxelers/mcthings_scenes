{
 "cells": [
  {
   "cell_type": "markdown",
   "metadata": {
    "colab_type": "text",
    "id": "RPRbA3xOgpAN"
   },
   "source": [
    "# Rotate the Pirate Boat\n",
    "\n",
    "* Author: Alvaro del Castillo\n",
    "* Scene for McThings framework: https://github.com/juntosdesdecasa/mcthings (0.50.0)\n",
    "* License: ASL 2.0\n",
    "* Description of the scene: Rotation sample"
   ]
  },
  {
   "cell_type": "code",
   "execution_count": null,
   "metadata": {
    "colab": {
     "base_uri": "https://localhost:8080/",
     "height": 106
    },
    "colab_type": "code",
    "id": "fJ9fcGAqgpAT",
    "outputId": "b8f357bc-1645-4e34-d65e-ff113c8c794b"
   },
   "outputs": [],
   "source": [
    "# Install McThings to create the Scene\n",
    "\n",
    "!pip install mcthings --upgrade"
   ]
  },
  {
   "cell_type": "code",
   "execution_count": null,
   "metadata": {
    "colab": {},
    "colab_type": "code",
    "id": "8_fcbiqMgpAq"
   },
   "outputs": [],
   "source": [
    "# Import definition of blocks\n",
    "import mcpi.block\n",
    "\n",
    "# Import Vec3 for defining positions\n",
    "from mcpi.vec3 import Vec3\n",
    "\n",
    "# Be sure to use the last version\n",
    "import importlib\n",
    "import mcthings\n",
    "importlib.reload(mcthings)\n",
    "\n",
    "# Import Scene and Server\n",
    "from mcthings.renderers.raspberry_pi import RaspberryPi\n",
    "from mcthings.world import World\n",
    "\n",
    "# Import the Things used in the Scene\n",
    "from mcthings.schematic import Schematic"
   ]
  },
  {
   "cell_type": "code",
   "execution_count": null,
   "metadata": {
    "colab": {},
    "colab_type": "code",
    "id": "YiZ5XL_bgpBA"
   },
   "outputs": [],
   "source": [
    "# Connect to the Minecraft server and send a testing message to chat\n",
    "\n",
    "MC_SEVER_HOST = \"localhost\"\n",
    "MC_SEVER_PORT = 4711\n",
    "\n",
    "World.renderer = RaspberryPi(MC_SEVER_HOST, MC_SEVER_PORT)\n",
    "World.renderer.post_to_chat(\"Building a Scene with McThings: Rotations\")\n",
    "\n",
    "server = World.renderer.server.mc"
   ]
  },
  {
   "cell_type": "code",
   "execution_count": null,
   "metadata": {
    "colab": {},
    "colab_type": "code",
    "id": "o787Y3yBgpBR"
   },
   "outputs": [],
   "source": [
    "# Get the initial position to create the scene\n",
    "BUILDER_NAME = \"ElasticExplorer\"\n",
    "\n",
    "pos = server.entity.getTilePos(server.getPlayerEntityId(BUILDER_NAME))\n",
    "\n",
    "pos.x += 1\n",
    "\n",
    "World.renderer.post_to_chat(\"Building the Scene at %s %s %s \" % (pos.x, pos.y, pos.z))"
   ]
  },
  {
   "cell_type": "markdown",
   "metadata": {
    "colab_type": "text",
    "id": "Et0MVsWwgpBf"
   },
   "source": [
    "# The order in which the scene will be built\n",
    "\n",
    "* Create the pirate boat from the Schematic\n",
    "* Rotate the pirate boat 90, 180 and 270 degrees"
   ]
  },
  {
   "cell_type": "code",
   "execution_count": null,
   "metadata": {
    "colab": {},
    "colab_type": "code",
    "id": "vknEnEFigpBi"
   },
   "outputs": [],
   "source": [
    "# Schematic\n",
    "\n",
    "s = Schematic(pos)\n",
    "s.file_path=\"schematics/pirate-boat.schematic\"\n",
    "s.build()"
   ]
  },
  {
   "cell_type": "code",
   "execution_count": null,
   "metadata": {
    "colab": {},
    "colab_type": "code",
    "id": "4IHT4UeEgpBz"
   },
   "outputs": [],
   "source": [
    "# Second thing\n",
    "s = Schematic(pos)\n",
    "s.file_path=\"schematics/pirate-boat.schematic\"\n",
    "s.create()\n",
    "s.rotate(90)\n",
    "s.render()\n",
    "\n",
    "s = Schematic(pos)\n",
    "s.file_path=\"schematics/pirate-boat.schematic\"\n",
    "s.create()\n",
    "s.rotate(180)\n",
    "s.render()\n",
    "\n",
    "s = Schematic(pos)\n",
    "s.file_path=\"schematics/pirate-boat.schematic\"\n",
    "s.create()\n",
    "s.rotate(270)\n",
    "s.render()"
   ]
  },
  {
   "cell_type": "code",
   "execution_count": null,
   "metadata": {
    "colab": {},
    "colab_type": "code",
    "id": "kaXJjbqegpCC"
   },
   "outputs": [],
   "source": [
    "# Save the scene to a file to share it with the community\n",
    "World.scenes[0].save('mct/rotate_pirate_boat.mct')"
   ]
  },
  {
   "cell_type": "markdown",
   "metadata": {
    "colab_type": "text",
    "id": "-JDKOyGLgpCO"
   },
   "source": [
    "Include a screenshot with the scene built\n",
    "\n",
    "![Final Scene](img/rotate_pirate_boat.png?raw=1)"
   ]
  }
 ],
 "metadata": {
  "colab": {
   "name": "Copy of scene_template.ipynb",
   "provenance": []
  },
  "kernelspec": {
   "display_name": "Python 3",
   "language": "python",
   "name": "python3"
  },
  "language_info": {
   "codemirror_mode": {
    "name": "ipython",
    "version": 3
   },
   "file_extension": ".py",
   "mimetype": "text/x-python",
   "name": "python",
   "nbconvert_exporter": "python",
   "pygments_lexer": "ipython3",
   "version": "3.7.4"
  }
 },
 "nbformat": 4,
 "nbformat_minor": 1
}
