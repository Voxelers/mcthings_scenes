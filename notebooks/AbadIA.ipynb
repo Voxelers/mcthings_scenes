{
 "cells": [
  {
   "cell_type": "markdown",
   "metadata": {},
   "source": [
    "# AbadIA\n",
    "\n",
    "* Author: Alvaro del Castillo\n",
    "* Scene for McThings framework: https://github.com/juntosdesdecasa/mcthings (v0.40.0)\n",
    "* License: ASL 2.0\n",
    "* Description: This scene shows howto load the AbadIA CSV data to build the Abadia building from the original game"
   ]
  },
  {
   "cell_type": "code",
   "execution_count": 10,
   "metadata": {},
   "outputs": [
    {
     "name": "stdout",
     "output_type": "stream",
     "text": [
      "Requirement already up-to-date: mcthings_extra in /home/adelcastillo/devel/minecraft/mcthings_scenes/venv/lib/python3.8/site-packages (0.0.13)\n",
      "Requirement already satisfied, skipping upgrade: nbt in /home/adelcastillo/devel/minecraft/mcthings_scenes/venv/lib/python3.8/site-packages (from mcthings_extra) (1.5.0)\n",
      "Requirement already satisfied, skipping upgrade: pandas in /home/adelcastillo/devel/minecraft/mcthings_scenes/venv/lib/python3.8/site-packages (from mcthings_extra) (1.0.4)\n",
      "Requirement already satisfied, skipping upgrade: mcthings>=0.34.0 in /home/adelcastillo/devel/minecraft/mcthings_scenes/venv/lib/python3.8/site-packages (from mcthings_extra) (0.34.0)\n",
      "Requirement already satisfied, skipping upgrade: mcpi>=1.2.0 in /home/adelcastillo/devel/minecraft/mcthings_scenes/venv/lib/python3.8/site-packages (from mcthings_extra) (1.2.0)\n",
      "Requirement already satisfied, skipping upgrade: python-dateutil>=2.6.1 in /home/adelcastillo/devel/minecraft/mcthings_scenes/venv/lib/python3.8/site-packages (from pandas->mcthings_extra) (2.8.1)\n",
      "Requirement already satisfied, skipping upgrade: numpy>=1.13.3 in /home/adelcastillo/devel/minecraft/mcthings_scenes/venv/lib/python3.8/site-packages (from pandas->mcthings_extra) (1.18.4)\n",
      "Requirement already satisfied, skipping upgrade: pytz>=2017.2 in /home/adelcastillo/devel/minecraft/mcthings_scenes/venv/lib/python3.8/site-packages (from pandas->mcthings_extra) (2020.1)\n",
      "Requirement already satisfied, skipping upgrade: minecraftstuff in /home/adelcastillo/devel/minecraft/mcthings_scenes/venv/lib/python3.8/site-packages (from mcthings>=0.34.0->mcthings_extra) (1.0.1)\n",
      "Requirement already satisfied, skipping upgrade: six>=1.5 in /home/adelcastillo/devel/minecraft/mcthings_scenes/venv/lib/python3.8/site-packages (from python-dateutil>=2.6.1->pandas->mcthings_extra) (1.15.0)\n",
      "\u001b[33mWARNING: You are using pip version 19.3.1; however, version 20.1.1 is available.\n",
      "You should consider upgrading via the 'pip install --upgrade pip' command.\u001b[0m\n"
     ]
    }
   ],
   "source": [
    "# Install McThings Extra to create the Scene\n",
    "\n",
    "!pip install mcthings_extra --upgrade"
   ]
  },
  {
   "cell_type": "code",
   "execution_count": 11,
   "metadata": {},
   "outputs": [],
   "source": [
    "# Import definition of blocks\n",
    "import mcpi.block\n",
    "\n",
    "# Import Vec3 for defining positions\n",
    "from mcpi.vec3 import Vec3\n",
    "\n",
    "# Be sure to use the last version\n",
    "import importlib\n",
    "import mcthings\n",
    "importlib.reload(mcthings)\n",
    "\n",
    "# Import Scene and Server\n",
    "from mcthings.scene import Scene\n",
    "from mcthings.world import World\n",
    "\n",
    "\n",
    "# Import the Things used in the Scene\n",
    "from mcthings_extra.csv_points import CsvPoints"
   ]
  },
  {
   "cell_type": "code",
   "execution_count": 12,
   "metadata": {},
   "outputs": [],
   "source": [
    "# Connect to the Minecraft server and send a testing message to chat\n",
    "\n",
    "MC_SEVER_HOST = \"localhost\"\n",
    "MC_SEVER_PORT = 4711\n",
    "\n",
    "World.connect(Server(MC_SEVER_HOST, MC_SEVER_PORT))\n",
    "\n",
    "World.server.postToChat(\"Building a Scene with McThings: AbadIA\")"
   ]
  },
  {
   "cell_type": "code",
   "execution_count": 13,
   "metadata": {},
   "outputs": [],
   "source": [
    "# Get the initial position to create the scene\n",
    "BUILDER_NAME = \"ElasticExplorer\"\n",
    "\n",
    "pos = World.server.entity.getTilePos(server.mc.getPlayerEntityId(BUILDER_NAME))\n",
    "pos.x += 1\n",
    "\n",
    "World.server.postToChat(\"Building the Scene at %s %s %s \" % (\n",
    "    pos.x, pos.y, pos.z))"
   ]
  },
  {
   "cell_type": "markdown",
   "metadata": {},
   "source": [
    "# The order in which the scene will be built\n",
    "\n",
    "* Just load the file with the CSV data and build it"
   ]
  },
  {
   "cell_type": "code",
   "execution_count": 14,
   "metadata": {},
   "outputs": [],
   "source": [
    "# CsvPoints\n",
    "\n",
    "abadia = CsvPoints(pos)\n",
    "abadia.file_path = \"data/alturas-final.csv\"\n",
    "abadia.build()"
   ]
  },
  {
   "cell_type": "markdown",
   "metadata": {},
   "source": [
    "![Final Scene](img/abadia.png?raw=1)"
   ]
  }
 ],
 "metadata": {
  "kernelspec": {
   "display_name": "Python 3",
   "language": "python",
   "name": "python3"
  },
  "language_info": {
   "codemirror_mode": {
    "name": "ipython",
    "version": 3
   },
   "file_extension": ".py",
   "mimetype": "text/x-python",
   "name": "python",
   "nbconvert_exporter": "python",
   "pygments_lexer": "ipython3",
   "version": "3.8.3"
  }
 },
 "nbformat": 4,
 "nbformat_minor": 4
}
