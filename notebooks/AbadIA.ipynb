{
 "cells": [
  {
   "cell_type": "markdown",
   "metadata": {},
   "source": [
    "# AbadIA\n",
    "\n",
    "* Author: Alvaro del Castillo\n",
    "* Scene for McThings framework: https://github.com/juntosdesdecasa/mcthings (v0.50.0)\n",
    "* License: ASL 2.0\n",
    "* Description: This scene shows howto load the AbadIA CSV data to build the Abadia building from the original game"
   ]
  },
  {
   "cell_type": "code",
   "execution_count": null,
   "metadata": {},
   "outputs": [],
   "source": [
    "# Install McThings Extra to create the Scene\n",
    "\n",
    "!pip install mcthings_extra --upgrade"
   ]
  },
  {
   "cell_type": "code",
   "execution_count": null,
   "metadata": {},
   "outputs": [],
   "source": [
    "# Import definition of blocks\n",
    "import mcpi.block\n",
    "\n",
    "# Import Vec3 for defining positions\n",
    "from mcpi.vec3 import Vec3\n",
    "\n",
    "# Be sure to use the last version\n",
    "import importlib\n",
    "import mcthings\n",
    "importlib.reload(mcthings)\n",
    "\n",
    "# Import Scene and Server\n",
    "from mcthings.renderers.raspberry_pi import RaspberryPi\n",
    "from mcthings.scene import Scene\n",
    "from mcthings.world import World\n",
    "\n",
    "\n",
    "# Import the Things used in the Scene\n",
    "from mcthings_extra.csv_points import CsvPoints"
   ]
  },
  {
   "cell_type": "code",
   "execution_count": null,
   "metadata": {},
   "outputs": [],
   "source": [
    "# Connect to the Minecraft server and send a testing message to chat\n",
    "\n",
    "MC_SEVER_HOST = \"localhost\"\n",
    "MC_SEVER_PORT = 4711\n",
    "\n",
    "World.renderer = RaspberryPi(MC_SEVER_HOST, MC_SEVER_PORT)\n",
    "World.renderer.post_to_chat(\"Building a Scene with McThings: AbadIA\")\n",
    "\n",
    "server = World.renderer.server.mc"
   ]
  },
  {
   "cell_type": "code",
   "execution_count": null,
   "metadata": {},
   "outputs": [],
   "source": [
    "# Get the initial position to create the scene\n",
    "BUILDER_NAME = \"ElasticExplorer\"\n",
    "\n",
    "pos = World.renderer.get_pos(BUILDER_NAME)\n",
    "\n",
    "pos.x += 1\n",
    "\n",
    "World.renderer.post_to_chat(\"Building the Scene at %s %s %s \" % (pos.x, pos.y, pos.z))"
   ]
  },
  {
   "cell_type": "markdown",
   "metadata": {},
   "source": [
    "# The order in which the scene will be built\n",
    "\n",
    "* Just load the file with the CSV data and build it"
   ]
  },
  {
   "cell_type": "code",
   "execution_count": null,
   "metadata": {},
   "outputs": [],
   "source": [
    "# CsvPoints\n",
    "\n",
    "abadia = CsvPoints(pos)\n",
    "abadia.file_path = \"data/alturas-final.csv\"\n",
    "abadia.build()"
   ]
  },
  {
   "cell_type": "markdown",
   "metadata": {},
   "source": [
    "![Final Scene](img/abadia.png?raw=1)"
   ]
  }
 ],
 "metadata": {
  "kernelspec": {
   "display_name": "Python 3",
   "language": "python",
   "name": "python3"
  },
  "language_info": {
   "codemirror_mode": {
    "name": "ipython",
    "version": 3
   },
   "file_extension": ".py",
   "mimetype": "text/x-python",
   "name": "python",
   "nbconvert_exporter": "python",
   "pygments_lexer": "ipython3",
   "version": "3.7.4"
  }
 },
 "nbformat": 4,
 "nbformat_minor": 4
}
