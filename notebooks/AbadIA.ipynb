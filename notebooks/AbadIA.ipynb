{
 "cells": [
  {
   "cell_type": "markdown",
   "metadata": {},
   "source": [
    "# AbadIA\n",
    "\n",
    "* Author: Alvaro del Castillo\n",
    "* Scene for McThings framework: https://github.com/juntosdesdecasa/mcthings (v0.50.0)\n",
    "* License: ASL 2.0\n",
    "* Description: This scene shows howto load the AbadIA CSV data to build the Abadia building from the original game"
   ]
  },
  {
   "cell_type": "code",
   "execution_count": 1,
   "metadata": {},
   "outputs": [
    {
     "name": "stdout",
     "output_type": "stream",
     "text": [
      "Requirement already up-to-date: mcthings_extra in /home/adelcastillo/devel/minecraft/mcthings_scenes/venv/lib/python3.7/site-packages (0.0.16)\n",
      "Requirement already satisfied, skipping upgrade: mcpi>=1.2.0 in /home/adelcastillo/devel/minecraft/mcthings_scenes/venv/lib/python3.7/site-packages (from mcthings_extra) (1.2.0)\n",
      "Requirement already satisfied, skipping upgrade: mcthings>=0.49.3 in /home/adelcastillo/devel/minecraft/mcthings_scenes/venv/lib/python3.7/site-packages (from mcthings_extra) (0.49.4)\n",
      "Requirement already satisfied, skipping upgrade: pandas in /home/adelcastillo/devel/minecraft/mcthings_scenes/venv/lib/python3.7/site-packages (from mcthings_extra) (1.0.4)\n",
      "Requirement already satisfied, skipping upgrade: nbt in /home/adelcastillo/devel/minecraft/mcthings_scenes/venv/lib/python3.7/site-packages (from mcthings_extra) (1.5.0)\n",
      "Requirement already satisfied, skipping upgrade: minecraftstuff in /home/adelcastillo/devel/minecraft/mcthings_scenes/venv/lib/python3.7/site-packages (from mcthings>=0.49.3->mcthings_extra) (1.0.1)\n",
      "Requirement already satisfied, skipping upgrade: pytz>=2017.2 in /home/adelcastillo/devel/minecraft/mcthings_scenes/venv/lib/python3.7/site-packages (from pandas->mcthings_extra) (2020.1)\n",
      "Requirement already satisfied, skipping upgrade: numpy>=1.13.3 in /home/adelcastillo/devel/minecraft/mcthings_scenes/venv/lib/python3.7/site-packages (from pandas->mcthings_extra) (1.18.4)\n",
      "Requirement already satisfied, skipping upgrade: python-dateutil>=2.6.1 in /home/adelcastillo/devel/minecraft/mcthings_scenes/venv/lib/python3.7/site-packages (from pandas->mcthings_extra) (2.8.1)\n",
      "Requirement already satisfied, skipping upgrade: six>=1.5 in /home/adelcastillo/devel/minecraft/mcthings_scenes/venv/lib/python3.7/site-packages (from python-dateutil>=2.6.1->pandas->mcthings_extra) (1.15.0)\n"
     ]
    }
   ],
   "source": [
    "# Install McThings Extra to create the Scene\n",
    "\n",
    "!pip install mcthings_extra --upgrade"
   ]
  },
  {
   "cell_type": "code",
   "execution_count": 2,
   "metadata": {},
   "outputs": [
    {
     "ename": "ImportError",
     "evalue": "cannot import name 'BlocksMemory' from 'mcthings.blocks_memory' (/home/adelcastillo/devel/minecraft/mcthings_scenes/venv/lib/python3.7/site-packages/mcthings/blocks_memory.py)",
     "output_type": "error",
     "traceback": [
      "\u001b[0;31m---------------------------------------------------------------------------\u001b[0m",
      "\u001b[0;31mImportError\u001b[0m                               Traceback (most recent call last)",
      "\u001b[0;32m<ipython-input-2-c5a20db0b047>\u001b[0m in \u001b[0;36m<module>\u001b[0;34m\u001b[0m\n\u001b[1;32m     11\u001b[0m \u001b[0;34m\u001b[0m\u001b[0m\n\u001b[1;32m     12\u001b[0m \u001b[0;31m# Import Scene and Server\u001b[0m\u001b[0;34m\u001b[0m\u001b[0;34m\u001b[0m\u001b[0;34m\u001b[0m\u001b[0m\n\u001b[0;32m---> 13\u001b[0;31m \u001b[0;32mfrom\u001b[0m \u001b[0mmcthings\u001b[0m\u001b[0;34m.\u001b[0m\u001b[0mrenderers\u001b[0m\u001b[0;34m.\u001b[0m\u001b[0mraspberry_pi\u001b[0m \u001b[0;32mimport\u001b[0m \u001b[0mRaspberryPi\u001b[0m\u001b[0;34m\u001b[0m\u001b[0;34m\u001b[0m\u001b[0m\n\u001b[0m\u001b[1;32m     14\u001b[0m \u001b[0;32mfrom\u001b[0m \u001b[0mmcthings\u001b[0m\u001b[0;34m.\u001b[0m\u001b[0mscene\u001b[0m \u001b[0;32mimport\u001b[0m \u001b[0mScene\u001b[0m\u001b[0;34m\u001b[0m\u001b[0;34m\u001b[0m\u001b[0m\n\u001b[1;32m     15\u001b[0m \u001b[0;32mfrom\u001b[0m \u001b[0mmcthings\u001b[0m\u001b[0;34m.\u001b[0m\u001b[0mworld\u001b[0m \u001b[0;32mimport\u001b[0m \u001b[0mWorld\u001b[0m\u001b[0;34m\u001b[0m\u001b[0;34m\u001b[0m\u001b[0m\n",
      "\u001b[0;32m~/devel/minecraft/mcthings_scenes/venv/lib/python3.7/site-packages/mcthings/renderers/raspberry_pi.py\u001b[0m in \u001b[0;36m<module>\u001b[0;34m\u001b[0m\n\u001b[1;32m     10\u001b[0m \u001b[0;34m\u001b[0m\u001b[0m\n\u001b[1;32m     11\u001b[0m \u001b[0;32mfrom\u001b[0m \u001b[0;34m.\u001b[0m\u001b[0mrenderer\u001b[0m \u001b[0;32mimport\u001b[0m \u001b[0mRenderer\u001b[0m\u001b[0;34m\u001b[0m\u001b[0;34m\u001b[0m\u001b[0m\n\u001b[0;32m---> 12\u001b[0;31m \u001b[0;32mfrom\u001b[0m \u001b[0;34m.\u001b[0m\u001b[0;34m.\u001b[0m\u001b[0mblocks_memory\u001b[0m \u001b[0;32mimport\u001b[0m \u001b[0mBlocksMemory\u001b[0m\u001b[0;34m\u001b[0m\u001b[0;34m\u001b[0m\u001b[0m\n\u001b[0m\u001b[1;32m     13\u001b[0m \u001b[0;34m\u001b[0m\u001b[0m\n\u001b[1;32m     14\u001b[0m \u001b[0;34m\u001b[0m\u001b[0m\n",
      "\u001b[0;31mImportError\u001b[0m: cannot import name 'BlocksMemory' from 'mcthings.blocks_memory' (/home/adelcastillo/devel/minecraft/mcthings_scenes/venv/lib/python3.7/site-packages/mcthings/blocks_memory.py)"
     ]
    }
   ],
   "source": [
    "# Import definition of blocks\n",
    "import mcpi.block\n",
    "\n",
    "# Import Vec3 for defining positions\n",
    "from mcpi.vec3 import Vec3\n",
    "\n",
    "# Be sure to use the last version\n",
    "import importlib\n",
    "import mcthings\n",
    "importlib.reload(mcthings)\n",
    "\n",
    "# Import Scene and Server\n",
    "from mcthings.renderers.raspberry_pi import RaspberryPi\n",
    "from mcthings.scene import Scene\n",
    "from mcthings.world import World\n",
    "\n",
    "\n",
    "# Import the Things used in the Scene\n",
    "from mcthings_extra.csv_points import CsvPoints"
   ]
  },
  {
   "cell_type": "code",
   "execution_count": null,
   "metadata": {},
   "outputs": [],
   "source": [
    "# Connect to the Minecraft server and send a testing message to chat\n",
    "\n",
    "MC_SEVER_HOST = \"localhost\"\n",
    "MC_SEVER_PORT = 4711\n",
    "\n",
    "World.renderer = RaspberryPi(MC_SEVER_HOST, MC_SEVER_PORT)\n",
    "World.renderer.post_to_chat(\"Building a Scene with McThings: AbadIA\")\n",
    "\n",
    "server = World.renderer.server.mc"
   ]
  },
  {
   "cell_type": "code",
   "execution_count": null,
   "metadata": {},
   "outputs": [],
   "source": [
    "# Get the initial position to create the scene\n",
    "BUILDER_NAME = \"ElasticExplorer\"\n",
    "\n",
    "pos = server.entity.getTilePos(server.getPlayerEntityId(BUILDER_NAME))\n",
    "\n",
    "pos.x += 1\n",
    "\n",
    "World.renderer.post_to_chat(\"Building the Scene at %s %s %s \" % (pos.x, pos.y, pos.z))"
   ]
  },
  {
   "cell_type": "markdown",
   "metadata": {},
   "source": [
    "# The order in which the scene will be built\n",
    "\n",
    "* Just load the file with the CSV data and build it"
   ]
  },
  {
   "cell_type": "code",
   "execution_count": null,
   "metadata": {},
   "outputs": [],
   "source": [
    "# CsvPoints\n",
    "\n",
    "abadia = CsvPoints(pos)\n",
    "abadia.file_path = \"data/alturas-final.csv\"\n",
    "abadia.build()"
   ]
  },
  {
   "cell_type": "markdown",
   "metadata": {},
   "source": [
    "![Final Scene](img/abadia.png?raw=1)"
   ]
  }
 ],
 "metadata": {
  "kernelspec": {
   "display_name": "Python 3",
   "language": "python",
   "name": "python3"
  },
  "language_info": {
   "codemirror_mode": {
    "name": "ipython",
    "version": 3
   },
   "file_extension": ".py",
   "mimetype": "text/x-python",
   "name": "python",
   "nbconvert_exporter": "python",
   "pygments_lexer": "ipython3",
   "version": "3.7.4"
  }
 },
 "nbformat": 4,
 "nbformat_minor": 4
}
