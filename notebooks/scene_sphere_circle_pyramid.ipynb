{
 "cells": [
  {
   "cell_type": "markdown",
   "metadata": {
    "colab_type": "text",
    "id": "6ApTDxdPVgiI"
   },
   "source": [
    "# A Sphere, Circle and Pyramid Scene\n",
    "\n",
    "* Author: Alvaro del Castillo\n",
    "* Scene for McThings framework: https://github.com/juntosdesdecasa/mcthings (0.40.0)\n",
    "* License: ASL 2.0\n",
    "* Description of the scene: Basic scene showing a Sphere, Circle and Pyramids combination."
   ]
  },
  {
   "cell_type": "code",
   "execution_count": null,
   "metadata": {
    "colab": {},
    "colab_type": "code",
    "id": "MUVPF1KoVgiK"
   },
   "outputs": [],
   "source": [
    "# Install McThings to create the Scene\n",
    "\n",
    "!pip install mcthings --upgrade"
   ]
  },
  {
   "cell_type": "code",
   "execution_count": null,
   "metadata": {
    "colab": {},
    "colab_type": "code",
    "id": "DDRRDm1OVgib"
   },
   "outputs": [],
   "source": [
    "# Import definition of blocks\n",
    "import mcpi.block\n",
    "\n",
    "# Import Vec3 for defining positions\n",
    "from mcpi.vec3 import Vec3\n",
    "\n",
    "# Be sure to use the last version\n",
    "import importlib\n",
    "import mcthings\n",
    "importlib.reload(mcthings)\n",
    "\n",
    "# Import Scene and Server\n",
    "from mcthings.server import Server\n",
    "from mcthings.world import World\n",
    "\n",
    "# Import the Things used in the Scene\n",
    "from mcthings.circle import Circle\n",
    "from mcthings.sphere import Sphere\n",
    "from mcthings.pyramid import Pyramid"
   ]
  },
  {
   "cell_type": "code",
   "execution_count": null,
   "metadata": {
    "colab": {},
    "colab_type": "code",
    "id": "VITvEf3PVgip"
   },
   "outputs": [],
   "source": [
    "# Connect to the Minecraft server and send a testing message to chat\n",
    "\n",
    "MC_SEVER_HOST = \"localhost\"\n",
    "MC_SEVER_PORT = 4711\n",
    "\n",
    "World.connect(Server(MC_SEVER_HOST, MC_SEVER_PORT))\n",
    "\n",
    "World.server.postToChat(\"Building a Scene with McThings: Sphere\")"
   ]
  },
  {
   "cell_type": "code",
   "execution_count": null,
   "metadata": {
    "colab": {},
    "colab_type": "code",
    "id": "oLBbbTm3Vgiz"
   },
   "outputs": [],
   "source": [
    "# Get the initial position to create the scene\n",
    "BUILDER_NAME = \"ElasticExplorer\"\n",
    "\n",
    "pos = World.server.entity.getTilePos(World.server.getPlayerEntityId(BUILDER_NAME))\n",
    "pos.x += 1\n",
    "\n",
    "World.server.postToChat(\"Building the Scene at %s %s %s \" % (\n",
    "    pos.x, pos.y, pos.z))"
   ]
  },
  {
   "cell_type": "markdown",
   "metadata": {
    "colab_type": "text",
    "id": "g4jV-8FLVgjD"
   },
   "source": [
    "# The order in which the scene will be built\n",
    "\n",
    "* Create Circle\n",
    "* Create Sphere inside the Circle\n",
    "* Create the two Pyramids at both sides of the sphere"
   ]
  },
  {
   "cell_type": "code",
   "execution_count": null,
   "metadata": {
    "colab": {},
    "colab_type": "code",
    "id": "OuDmjbxkVgjF"
   },
   "outputs": [],
   "source": [
    "init_y = pos.y\n",
    "init_x = pos.x\n",
    "\n",
    "radius = 10\n",
    "pos.z += 20\n",
    "\n",
    "circle = Circle(pos)\n",
    "circle.radius = radius\n",
    "circle.block = mcpi.block.BEDROCK\n",
    "circle.build()"
   ]
  },
  {
   "cell_type": "code",
   "execution_count": null,
   "metadata": {
    "colab": {},
    "colab_type": "code",
    "id": "yzZZXoEkVgjP"
   },
   "outputs": [],
   "source": [
    "pos.y += round(radius/2) - 1\n",
    "sphere = Sphere(pos)\n",
    "sphere.radius = round(radius/2)\n",
    "sphere.block = mcpi.block.IRON_BLOCK\n",
    "sphere.build()"
   ]
  },
  {
   "cell_type": "code",
   "execution_count": null,
   "metadata": {},
   "outputs": [],
   "source": [
    "pyr_height = 4\n",
    "pyr_width = (2 * pyr_height - 1)\n",
    "pos.x = init_x + round(radius/2)\n",
    "pos.y = init_y\n",
    "pyr = Pyramid(pos)\n",
    "pyr.height = 4\n",
    "pyr.block = mcpi.block.GOLD_BLOCK\n",
    "pyr.build()\n",
    "\n",
    "pos.x = init_x - round(radius/2) - pyr_width + 1\n",
    "pyr = Pyramid(pos)\n",
    "pyr.height = 4\n",
    "pyr.block = mcpi.block.GOLD_BLOCK\n",
    "pyr.build()"
   ]
  },
  {
   "cell_type": "code",
   "execution_count": null,
   "metadata": {
    "colab": {},
    "colab_type": "code",
    "id": "bsjb2FLHVgkE"
   },
   "outputs": [],
   "source": [
    "# Save the scene to a file to share it with the community\n",
    "World.scenes[0].save('mct/scene_sphere_circle_pyramid.mct')"
   ]
  },
  {
   "cell_type": "markdown",
   "metadata": {
    "colab_type": "text",
    "id": "G3_0MH_oVgkM"
   },
   "source": [
    "Include a screenshot with the scene built\n",
    "\n",
    "![Final Scene](img/scene_sphere_circle_pyramid.png?raw=1)"
   ]
  }
 ],
 "metadata": {
  "colab": {
   "name": "scene_template.ipynb",
   "provenance": []
  },
  "kernelspec": {
   "display_name": "Python 3",
   "language": "python",
   "name": "python3"
  },
  "language_info": {
   "codemirror_mode": {
    "name": "ipython",
    "version": 3
   },
   "file_extension": ".py",
   "mimetype": "text/x-python",
   "name": "python",
   "nbconvert_exporter": "python",
   "pygments_lexer": "ipython3",
   "version": "3.8.3"
  }
 },
 "nbformat": 4,
 "nbformat_minor": 1
}
