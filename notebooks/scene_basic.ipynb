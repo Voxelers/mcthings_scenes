{
 "cells": [
  {
   "cell_type": "markdown",
   "metadata": {
    "colab_type": "text",
    "id": "6ApTDxdPVgiI"
   },
   "source": [
    "# Scene Basic\n",
    "\n",
    "* Author: Alvaro del Castillo\n",
    "* Scene for McThings framework: https://github.com/juntosdesdecasa/mcthings (0.40.0)\n",
    "* License: ASL 2.0\n",
    "* Description of the scene: The first scene in McThings history"
   ]
  },
  {
   "cell_type": "code",
   "execution_count": null,
   "metadata": {
    "colab": {},
    "colab_type": "code",
    "id": "MUVPF1KoVgiK"
   },
   "outputs": [],
   "source": [
    "# Install McThings to create the Scene\n",
    "\n",
    "!pip install mcthings --upgrade"
   ]
  },
  {
   "cell_type": "code",
   "execution_count": null,
   "metadata": {
    "colab": {},
    "colab_type": "code",
    "id": "DDRRDm1OVgib"
   },
   "outputs": [],
   "source": [
    "# Import definition of blocks\n",
    "import mcpi.block\n",
    "\n",
    "# Import Vec3 for defining positions\n",
    "from mcpi.vec3 import Vec3\n",
    "\n",
    "# Be sure to use the last version\n",
    "import importlib\n",
    "import mcthings\n",
    "importlib.reload(mcthings)\n",
    "\n",
    "# Import Scene and Server\n",
    "from mcthings.server import Server\n",
    "from mcthings.world import World\n",
    "\n",
    "# Import the Things used in the Scene\n",
    "from mcthings.bridge import Bridge\n",
    "from mcthings.house import House\n",
    "from mcthings.river import River\n",
    "from mcthings.schematic import Schematic"
   ]
  },
  {
   "cell_type": "code",
   "execution_count": null,
   "metadata": {
    "colab": {},
    "colab_type": "code",
    "id": "VITvEf3PVgip"
   },
   "outputs": [],
   "source": [
    "# Connect to the Minecraft server and send a testing message to chat\n",
    "\n",
    "MC_SEVER_HOST = \"localhost\"\n",
    "MC_SEVER_PORT = 4711\n",
    "\n",
    "World.connect(Server(MC_SEVER_HOST, MC_SEVER_PORT))\n",
    "\n",
    "World.server.postToChat(\"Building a Basic Scene\")"
   ]
  },
  {
   "cell_type": "code",
   "execution_count": null,
   "metadata": {
    "colab": {},
    "colab_type": "code",
    "id": "oLBbbTm3Vgiz"
   },
   "outputs": [],
   "source": [
    "# Get the initial position to create the scene\n",
    "BUILDER_NAME = \"ElasticExplorer\"\n",
    "\n",
    "pos = World.server.entity.getTilePos(World.server.getPlayerEntityId(BUILDER_NAME))\n",
    "pos.x += 1\n",
    "\n",
    "World.server.postToChat(\"Building the Scene at %s %s %s \" % (\n",
    "    pos.x, pos.y, pos.z))"
   ]
  },
  {
   "cell_type": "markdown",
   "metadata": {
    "colab_type": "text",
    "id": "g4jV-8FLVgjD"
   },
   "source": [
    "# The order in which the scene will be built\n",
    "\n",
    "* Create House\n",
    "* Create River\n",
    "* Create Bridge\n",
    "* Create House"
   ]
  },
  {
   "cell_type": "code",
   "execution_count": null,
   "metadata": {
    "colab": {},
    "colab_type": "code",
    "id": "OuDmjbxkVgjF"
   },
   "outputs": [],
   "source": [
    "# Commons params for the Scene\n",
    "\n",
    "river_width = 10\n",
    "house_to_river = 5\n",
    "house_width = 5"
   ]
  },
  {
   "cell_type": "code",
   "execution_count": null,
   "metadata": {},
   "outputs": [],
   "source": [
    "# The first house\n",
    "house = House(pos)\n",
    "house.mirror = True\n",
    "house.width = house_width\n",
    "house.build()"
   ]
  },
  {
   "cell_type": "code",
   "execution_count": null,
   "metadata": {},
   "outputs": [],
   "source": [
    "# Create a river between the houses\n",
    "pos.x += house_to_river + 1\n",
    "river = River(pos)\n",
    "river.width = river_width\n",
    "river.build()"
   ]
  },
  {
   "cell_type": "code",
   "execution_count": null,
   "metadata": {},
   "outputs": [],
   "source": [
    "# Create a bridge over the river\n",
    "pos.x -= 1\n",
    "bridge = Bridge(pos)\n",
    "bridge.large = river_width + 2\n",
    "bridge.block = mcpi.block.STONE\n",
    "bridge.build()"
   ]
  },
  {
   "cell_type": "code",
   "execution_count": null,
   "metadata": {
    "colab": {},
    "colab_type": "code",
    "id": "yzZZXoEkVgjP"
   },
   "outputs": [],
   "source": [
    "# The last house\n",
    "pos.x = river.end_position.x + 1 + house_to_river\n",
    "house = House(pos)\n",
    "house.width = house_width\n",
    "house.build()"
   ]
  },
  {
   "cell_type": "code",
   "execution_count": null,
   "metadata": {},
   "outputs": [],
   "source": [
    "# Let's persist the scene\n",
    "World.scenes[0].save(\"mct/scene_basic.mct\")"
   ]
  },
  {
   "cell_type": "code",
   "execution_count": null,
   "metadata": {},
   "outputs": [],
   "source": [
    "# Let's save it to a Schematic\n",
    "World.scenes[0].to_schematic(\"schematics/scene_basic.schematic\")"
   ]
  },
  {
   "cell_type": "code",
   "execution_count": null,
   "metadata": {},
   "outputs": [],
   "source": [
    "# Let's load the Schematic to test it\n",
    "schematic = Schematic(Vec3(pos.x + 2, pos.y, pos.z))\n",
    "schematic.file_path = \"schematics/scene_basic.schematic\"\n",
    "schematic.build()"
   ]
  },
  {
   "cell_type": "markdown",
   "metadata": {
    "colab_type": "text",
    "id": "G3_0MH_oVgkM"
   },
   "source": [
    "Include a screenshot with the scene built\n",
    "\n",
    "![Final Scene](img/scene_basic.png?raw=1)"
   ]
  }
 ],
 "metadata": {
  "colab": {
   "name": "scene_template.ipynb",
   "provenance": []
  },
  "kernelspec": {
   "display_name": "Python 3",
   "language": "python",
   "name": "python3"
  },
  "language_info": {
   "codemirror_mode": {
    "name": "ipython",
    "version": 3
   },
   "file_extension": ".py",
   "mimetype": "text/x-python",
   "name": "python",
   "nbconvert_exporter": "python",
   "pygments_lexer": "ipython3",
   "version": "3.8.3"
  }
 },
 "nbformat": 4,
 "nbformat_minor": 1
}
