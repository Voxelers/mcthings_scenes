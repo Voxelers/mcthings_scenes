{
 "cells": [
  {
   "cell_type": "markdown",
   "metadata": {},
   "source": [
    "# Schematics\n",
    "\n",
    "* Author: Alvaro del Castillo\n",
    "* Scene for McThings framework: https://github.com/juntosdesdecasa/mcthings (0.40.0)\n",
    "* License: ASL 2.0\n",
    "* Description: This scene shows howto load a Schematic file and build it"
   ]
  },
  {
   "cell_type": "code",
   "execution_count": null,
   "metadata": {},
   "outputs": [],
   "source": [
    "# Install McThings to create the Scene\n",
    "\n",
    "!pip install mcthings --upgrade"
   ]
  },
  {
   "cell_type": "code",
   "execution_count": null,
   "metadata": {},
   "outputs": [],
   "source": [
    "# Import definition of blocks\n",
    "import mcpi.block\n",
    "\n",
    "# Import Vec3 for defining positions\n",
    "from mcpi.vec3 import Vec3\n",
    "\n",
    "# Be sure to use the last version\n",
    "import importlib\n",
    "import mcthings\n",
    "importlib.reload(mcthings)\n",
    "\n",
    "# Import Scene and Server\n",
    "from mcthings.server import Server\n",
    "from mcthings.world import World\n",
    "\n",
    "# Import the Things used in the Scene\n",
    "from mcthings.schematic import Schematic"
   ]
  },
  {
   "cell_type": "code",
   "execution_count": null,
   "metadata": {},
   "outputs": [],
   "source": [
    "# Connect to the Minecraft server and send a testing message to chat\n",
    "\n",
    "MC_SEVER_HOST = \"localhost\"\n",
    "MC_SEVER_PORT = 4711\n",
    "\n",
    "World.connect(Server(MC_SEVER_HOST, MC_SEVER_PORT))\n",
    "\n",
    "World.server.postToChat(\"Building a Scene with McThings: Schematics\")"
   ]
  },
  {
   "cell_type": "code",
   "execution_count": null,
   "metadata": {},
   "outputs": [],
   "source": [
    "# Get the initial position to create the scene\n",
    "BUILDER_NAME = \"ElasticExplorer\"\n",
    "\n",
    "pos = World.server.entity.getTilePos(World.server.getPlayerEntityId(BUILDER_NAME))\n",
    "pos.x += 1\n",
    "\n",
    "World.server.postToChat(\"Building the Scene at %s %s %s \" % (\n",
    "    pos.x, pos.y, pos.z))"
   ]
  },
  {
   "cell_type": "markdown",
   "metadata": {},
   "source": [
    "# The order in which the scene will be built\n",
    "\n",
    "* Just load the file with the Schematic data and build it"
   ]
  },
  {
   "cell_type": "code",
   "execution_count": null,
   "metadata": {},
   "outputs": [],
   "source": [
    "# Schematic\n",
    "\n",
    "schematic = Schematic(pos)\n",
    "# Upload the schematic file inside Jupypter\n",
    "schematic.file_path = \"schematics/chateau-fairmont.schematic\"\n",
    "schematic.build()"
   ]
  },
  {
   "cell_type": "markdown",
   "metadata": {},
   "source": [
    "![Final Scene](img/schematic.png?raw=1)"
   ]
  }
 ],
 "metadata": {
  "kernelspec": {
   "display_name": "Python 3",
   "language": "python",
   "name": "python3"
  },
  "language_info": {
   "codemirror_mode": {
    "name": "ipython",
    "version": 3
   },
   "file_extension": ".py",
   "mimetype": "text/x-python",
   "name": "python",
   "nbconvert_exporter": "python",
   "pygments_lexer": "ipython3",
   "version": "3.8.3"
  }
 },
 "nbformat": 4,
 "nbformat_minor": 4
}
